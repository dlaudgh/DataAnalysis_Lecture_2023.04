{
 "cells": [
  {
   "cell_type": "code",
   "execution_count": 1,
   "metadata": {},
   "outputs": [],
   "source": [
    "import requests, json\n",
    "from urllib.parse import quote\n",
    "import folium\n",
    "import pandas as pd"
   ]
  },
  {
   "cell_type": "code",
   "execution_count": 2,
   "metadata": {},
   "outputs": [
    {
     "data": {
      "text/html": [
       "<div>\n",
       "<style scoped>\n",
       "    .dataframe tbody tr th:only-of-type {\n",
       "        vertical-align: middle;\n",
       "    }\n",
       "\n",
       "    .dataframe tbody tr th {\n",
       "        vertical-align: top;\n",
       "    }\n",
       "\n",
       "    .dataframe thead th {\n",
       "        text-align: right;\n",
       "    }\n",
       "</style>\n",
       "<table border=\"1\" class=\"dataframe\">\n",
       "  <thead>\n",
       "    <tr style=\"text-align: right;\">\n",
       "      <th></th>\n",
       "      <th>시군명</th>\n",
       "      <th>구분명</th>\n",
       "      <th>전화번호안내</th>\n",
       "      <th>소재지도로명주소</th>\n",
       "    </tr>\n",
       "  </thead>\n",
       "  <tbody>\n",
       "    <tr>\n",
       "      <th>0</th>\n",
       "      <td>안성시</td>\n",
       "      <td>안성시청</td>\n",
       "      <td>031-678-2114</td>\n",
       "      <td>경기도 안성시 시청길 25</td>\n",
       "    </tr>\n",
       "    <tr>\n",
       "      <th>1</th>\n",
       "      <td>안성시</td>\n",
       "      <td>고삼면</td>\n",
       "      <td>031-678-3980</td>\n",
       "      <td>경기도 안성시 고삼면 고삼호수로 21</td>\n",
       "    </tr>\n",
       "    <tr>\n",
       "      <th>2</th>\n",
       "      <td>안성시</td>\n",
       "      <td>공도읍</td>\n",
       "      <td>031-678-3610</td>\n",
       "      <td>경기도 안성시 공도4로 8</td>\n",
       "    </tr>\n",
       "  </tbody>\n",
       "</table>\n",
       "</div>"
      ],
      "text/plain": [
       "   시군명   구분명        전화번호안내              소재지도로명주소\n",
       "0  안성시  안성시청  031-678-2114        경기도 안성시 시청길 25\n",
       "1  안성시   고삼면  031-678-3980  경기도 안성시 고삼면 고삼호수로 21\n",
       "2  안성시   공도읍  031-678-3610        경기도 안성시 공도4로 8"
      ]
     },
     "execution_count": 2,
     "metadata": {},
     "output_type": "execute_result"
    }
   ],
   "source": [
    "df = pd.read_csv('data/경기도청사및출장소현황.csv', encoding='euc-kr')\n",
    "df = df[['시군명','구분명','전화번호안내','소재지도로명주소']]\n",
    "df.head(3)"
   ]
  },
  {
   "cell_type": "code",
   "execution_count": 3,
   "metadata": {},
   "outputs": [
    {
     "data": {
      "text/html": [
       "<div>\n",
       "<style scoped>\n",
       "    .dataframe tbody tr th:only-of-type {\n",
       "        vertical-align: middle;\n",
       "    }\n",
       "\n",
       "    .dataframe tbody tr th {\n",
       "        vertical-align: top;\n",
       "    }\n",
       "\n",
       "    .dataframe thead th {\n",
       "        text-align: right;\n",
       "    }\n",
       "</style>\n",
       "<table border=\"1\" class=\"dataframe\">\n",
       "  <thead>\n",
       "    <tr style=\"text-align: right;\">\n",
       "      <th></th>\n",
       "      <th>시군명</th>\n",
       "      <th>구분명</th>\n",
       "      <th>전화번호안내</th>\n",
       "      <th>소재지도로명주소</th>\n",
       "    </tr>\n",
       "  </thead>\n",
       "  <tbody>\n",
       "    <tr>\n",
       "      <th>0</th>\n",
       "      <td>안성시</td>\n",
       "      <td>안성시청</td>\n",
       "      <td>031-678-2114</td>\n",
       "      <td>경기도 안성시 시청길 25</td>\n",
       "    </tr>\n",
       "    <tr>\n",
       "      <th>17</th>\n",
       "      <td>안산시</td>\n",
       "      <td>단원구청</td>\n",
       "      <td>031-481-6000</td>\n",
       "      <td>경기도 안산시 단원구 중앙대로 685 (초지동)</td>\n",
       "    </tr>\n",
       "    <tr>\n",
       "      <th>22</th>\n",
       "      <td>안산시</td>\n",
       "      <td>안산시청</td>\n",
       "      <td>031-481-2000</td>\n",
       "      <td>경기도 안산시 단원구 화랑로 387 (고잔동)</td>\n",
       "    </tr>\n",
       "  </tbody>\n",
       "</table>\n",
       "</div>"
      ],
      "text/plain": [
       "    시군명   구분명        전화번호안내                    소재지도로명주소\n",
       "0   안성시  안성시청  031-678-2114              경기도 안성시 시청길 25\n",
       "17  안산시  단원구청  031-481-6000  경기도 안산시 단원구 중앙대로 685 (초지동)\n",
       "22  안산시  안산시청  031-481-2000   경기도 안산시 단원구 화랑로 387 (고잔동)"
      ]
     },
     "execution_count": 3,
     "metadata": {},
     "output_type": "execute_result"
    }
   ],
   "source": [
    "df = df[df.구분명.str.contains('도청') | df.구분명.str.contains('시청') | df.구분명.str.contains('구청')]\n",
    "df.head(3)"
   ]
  },
  {
   "cell_type": "code",
   "execution_count": 4,
   "metadata": {},
   "outputs": [],
   "source": [
    "with open('data/kakaoapikey.txt') as f:\n",
    "    kakao_key = f.read()"
   ]
  },
  {
   "cell_type": "code",
   "execution_count": 5,
   "metadata": {},
   "outputs": [],
   "source": [
    "base_url = 'https://dapi.kakao.com/v2/local/search/address.json'\n",
    "header = {'Authorization': f'KakaoAK {kakao_key}'}"
   ]
  },
  {
   "cell_type": "code",
   "execution_count": 6,
   "metadata": {},
   "outputs": [],
   "source": [
    "lat_list, lng_list = [], []\n",
    "for i in df.index:\n",
    "    url = f'{base_url}?query={quote(df.소재지도로명주소[i])}'\n",
    "    result = requests.get(url, headers=header).json()\n",
    "    lat_list.append(float(result['documents'][0]['y']))\n",
    "    lng_list.append(float(result['documents'][0]['x']))"
   ]
  },
  {
   "cell_type": "code",
   "execution_count": 7,
   "metadata": {},
   "outputs": [
    {
     "data": {
      "text/html": [
       "<div>\n",
       "<style scoped>\n",
       "    .dataframe tbody tr th:only-of-type {\n",
       "        vertical-align: middle;\n",
       "    }\n",
       "\n",
       "    .dataframe tbody tr th {\n",
       "        vertical-align: top;\n",
       "    }\n",
       "\n",
       "    .dataframe thead th {\n",
       "        text-align: right;\n",
       "    }\n",
       "</style>\n",
       "<table border=\"1\" class=\"dataframe\">\n",
       "  <thead>\n",
       "    <tr style=\"text-align: right;\">\n",
       "      <th></th>\n",
       "      <th>시군명</th>\n",
       "      <th>구분명</th>\n",
       "      <th>전화번호안내</th>\n",
       "      <th>소재지도로명주소</th>\n",
       "      <th>위도</th>\n",
       "      <th>경도</th>\n",
       "    </tr>\n",
       "  </thead>\n",
       "  <tbody>\n",
       "    <tr>\n",
       "      <th>0</th>\n",
       "      <td>안성시</td>\n",
       "      <td>안성시청</td>\n",
       "      <td>031-678-2114</td>\n",
       "      <td>경기도 안성시 시청길 25</td>\n",
       "      <td>37.008308</td>\n",
       "      <td>127.279210</td>\n",
       "    </tr>\n",
       "    <tr>\n",
       "      <th>17</th>\n",
       "      <td>안산시</td>\n",
       "      <td>단원구청</td>\n",
       "      <td>031-481-6000</td>\n",
       "      <td>경기도 안산시 단원구 중앙대로 685 (초지동)</td>\n",
       "      <td>37.319777</td>\n",
       "      <td>126.811755</td>\n",
       "    </tr>\n",
       "    <tr>\n",
       "      <th>22</th>\n",
       "      <td>안산시</td>\n",
       "      <td>안산시청</td>\n",
       "      <td>031-481-2000</td>\n",
       "      <td>경기도 안산시 단원구 화랑로 387 (고잔동)</td>\n",
       "      <td>37.322557</td>\n",
       "      <td>126.832714</td>\n",
       "    </tr>\n",
       "  </tbody>\n",
       "</table>\n",
       "</div>"
      ],
      "text/plain": [
       "    시군명   구분명        전화번호안내                    소재지도로명주소         위도          경도\n",
       "0   안성시  안성시청  031-678-2114              경기도 안성시 시청길 25  37.008308  127.279210\n",
       "17  안산시  단원구청  031-481-6000  경기도 안산시 단원구 중앙대로 685 (초지동)  37.319777  126.811755\n",
       "22  안산시  안산시청  031-481-2000   경기도 안산시 단원구 화랑로 387 (고잔동)  37.322557  126.832714"
      ]
     },
     "execution_count": 7,
     "metadata": {},
     "output_type": "execute_result"
    }
   ],
   "source": [
    "df['위도'] = lat_list\n",
    "df['경도'] = lng_list\n",
    "df.head(3)"
   ]
  },
  {
   "cell_type": "code",
   "execution_count": 8,
   "metadata": {},
   "outputs": [
    {
     "data": {
      "text/html": [
       "<div>\n",
       "<style scoped>\n",
       "    .dataframe tbody tr th:only-of-type {\n",
       "        vertical-align: middle;\n",
       "    }\n",
       "\n",
       "    .dataframe tbody tr th {\n",
       "        vertical-align: top;\n",
       "    }\n",
       "\n",
       "    .dataframe thead th {\n",
       "        text-align: right;\n",
       "    }\n",
       "</style>\n",
       "<table border=\"1\" class=\"dataframe\">\n",
       "  <thead>\n",
       "    <tr style=\"text-align: right;\">\n",
       "      <th></th>\n",
       "      <th>시군명</th>\n",
       "      <th>구분명</th>\n",
       "      <th>전화번호안내</th>\n",
       "      <th>소재지도로명주소</th>\n",
       "      <th>위도</th>\n",
       "      <th>경도</th>\n",
       "      <th>구분</th>\n",
       "    </tr>\n",
       "  </thead>\n",
       "  <tbody>\n",
       "    <tr>\n",
       "      <th>0</th>\n",
       "      <td>안성시</td>\n",
       "      <td>안성시청</td>\n",
       "      <td>031-678-2114</td>\n",
       "      <td>경기도 안성시 시청길 25</td>\n",
       "      <td>37.008308</td>\n",
       "      <td>127.279210</td>\n",
       "      <td>시청</td>\n",
       "    </tr>\n",
       "    <tr>\n",
       "      <th>17</th>\n",
       "      <td>안산시</td>\n",
       "      <td>단원구청</td>\n",
       "      <td>031-481-6000</td>\n",
       "      <td>경기도 안산시 단원구 중앙대로 685 (초지동)</td>\n",
       "      <td>37.319777</td>\n",
       "      <td>126.811755</td>\n",
       "      <td>구청</td>\n",
       "    </tr>\n",
       "    <tr>\n",
       "      <th>22</th>\n",
       "      <td>안산시</td>\n",
       "      <td>안산시청</td>\n",
       "      <td>031-481-2000</td>\n",
       "      <td>경기도 안산시 단원구 화랑로 387 (고잔동)</td>\n",
       "      <td>37.322557</td>\n",
       "      <td>126.832714</td>\n",
       "      <td>시청</td>\n",
       "    </tr>\n",
       "  </tbody>\n",
       "</table>\n",
       "</div>"
      ],
      "text/plain": [
       "    시군명   구분명        전화번호안내                    소재지도로명주소         위도   \n",
       "0   안성시  안성시청  031-678-2114              경기도 안성시 시청길 25  37.008308  \\\n",
       "17  안산시  단원구청  031-481-6000  경기도 안산시 단원구 중앙대로 685 (초지동)  37.319777   \n",
       "22  안산시  안산시청  031-481-2000   경기도 안산시 단원구 화랑로 387 (고잔동)  37.322557   \n",
       "\n",
       "            경도  구분  \n",
       "0   127.279210  시청  \n",
       "17  126.811755  구청  \n",
       "22  126.832714  시청  "
      ]
     },
     "execution_count": 8,
     "metadata": {},
     "output_type": "execute_result"
    }
   ],
   "source": [
    "df['구분'] = df.구분명.str[-2:]\n",
    "df.head(3)"
   ]
  },
  {
   "cell_type": "code",
   "execution_count": 10,
   "metadata": {},
   "outputs": [
    {
     "ename": "FileNotFoundError",
     "evalue": "[Errno 2] No such file or directory: 'data/과).png'",
     "output_type": "error",
     "traceback": [
      "\u001b[1;31m---------------------------------------------------------------------------\u001b[0m",
      "\u001b[1;31mFileNotFoundError\u001b[0m                         Traceback (most recent call last)",
      "Cell \u001b[1;32mIn[10], line 3\u001b[0m\n\u001b[0;32m      1\u001b[0m \u001b[39mmap\u001b[39m \u001b[39m=\u001b[39m folium\u001b[39m.\u001b[39mMap(location\u001b[39m=\u001b[39m[df\u001b[39m.\u001b[39m위도\u001b[39m.\u001b[39mmean(), df\u001b[39m.\u001b[39m경도\u001b[39m.\u001b[39mmean()], zoom_start\u001b[39m=\u001b[39m\u001b[39m8\u001b[39m)\n\u001b[0;32m      2\u001b[0m \u001b[39mfor\u001b[39;00m i \u001b[39min\u001b[39;00m df\u001b[39m.\u001b[39mindex:\n\u001b[1;32m----> 3\u001b[0m     logo \u001b[39m=\u001b[39m folium\u001b[39m.\u001b[39;49mfeatures\u001b[39m.\u001b[39;49mCustomIcon(\u001b[39mf\u001b[39;49m\u001b[39m'\u001b[39;49m\u001b[39mdata/\u001b[39;49m\u001b[39m{\u001b[39;49;00mdf\u001b[39m.\u001b[39;49m구분[i]\u001b[39m}\u001b[39;49;00m\u001b[39m.png\u001b[39;49m\u001b[39m'\u001b[39;49m, icon_size\u001b[39m=\u001b[39;49m(\u001b[39m20\u001b[39;49m,\u001b[39m20\u001b[39;49m))\n\u001b[0;32m      4\u001b[0m     folium\u001b[39m.\u001b[39mMarker(        \n\u001b[0;32m      5\u001b[0m         location\u001b[39m=\u001b[39m[df\u001b[39m.\u001b[39m위도[i], df\u001b[39m.\u001b[39m경도[i]],\n\u001b[0;32m      6\u001b[0m         popup\u001b[39m=\u001b[39mfolium\u001b[39m.\u001b[39mPopup(df\u001b[39m.\u001b[39m전화번호안내[i], max_width\u001b[39m=\u001b[39m\u001b[39m200\u001b[39m),\n\u001b[0;32m      7\u001b[0m         tooltip\u001b[39m=\u001b[39mdf\u001b[39m.\u001b[39m구분명[i],\n\u001b[0;32m      8\u001b[0m         icon\u001b[39m=\u001b[39mlogo\n\u001b[0;32m      9\u001b[0m     )\u001b[39m.\u001b[39madd_to(\u001b[39mmap\u001b[39m)\n\u001b[0;32m     10\u001b[0m \u001b[39mmap\u001b[39m\n",
      "File \u001b[1;32mc:\\Users\\YONSAI\\anaconda3\\lib\\site-packages\\folium\\features.py:1838\u001b[0m, in \u001b[0;36mCustomIcon.__init__\u001b[1;34m(self, icon_image, icon_size, icon_anchor, shadow_image, shadow_size, shadow_anchor, popup_anchor)\u001b[0m\n\u001b[0;32m   1835\u001b[0m \u001b[39msuper\u001b[39m(Icon, \u001b[39mself\u001b[39m)\u001b[39m.\u001b[39m\u001b[39m__init__\u001b[39m()\n\u001b[0;32m   1836\u001b[0m \u001b[39mself\u001b[39m\u001b[39m.\u001b[39m_name \u001b[39m=\u001b[39m \u001b[39m\"\u001b[39m\u001b[39mCustomIcon\u001b[39m\u001b[39m\"\u001b[39m\n\u001b[0;32m   1837\u001b[0m \u001b[39mself\u001b[39m\u001b[39m.\u001b[39moptions \u001b[39m=\u001b[39m parse_options(\n\u001b[1;32m-> 1838\u001b[0m     icon_url\u001b[39m=\u001b[39mimage_to_url(icon_image),\n\u001b[0;32m   1839\u001b[0m     icon_size\u001b[39m=\u001b[39micon_size,\n\u001b[0;32m   1840\u001b[0m     icon_anchor\u001b[39m=\u001b[39micon_anchor,\n\u001b[0;32m   1841\u001b[0m     shadow_url\u001b[39m=\u001b[39mshadow_image \u001b[39mand\u001b[39;00m image_to_url(shadow_image),\n\u001b[0;32m   1842\u001b[0m     shadow_size\u001b[39m=\u001b[39mshadow_size,\n\u001b[0;32m   1843\u001b[0m     shadow_anchor\u001b[39m=\u001b[39mshadow_anchor,\n\u001b[0;32m   1844\u001b[0m     popup_anchor\u001b[39m=\u001b[39mpopup_anchor,\n\u001b[0;32m   1845\u001b[0m )\n",
      "File \u001b[1;32mc:\\Users\\YONSAI\\anaconda3\\lib\\site-packages\\folium\\utilities.py:148\u001b[0m, in \u001b[0;36mimage_to_url\u001b[1;34m(image, colormap, origin)\u001b[0m\n\u001b[0;32m    146\u001b[0m \u001b[39mif\u001b[39;00m \u001b[39misinstance\u001b[39m(image, \u001b[39mstr\u001b[39m) \u001b[39mand\u001b[39;00m \u001b[39mnot\u001b[39;00m _is_url(image):\n\u001b[0;32m    147\u001b[0m     fileformat \u001b[39m=\u001b[39m os\u001b[39m.\u001b[39mpath\u001b[39m.\u001b[39msplitext(image)[\u001b[39m-\u001b[39m\u001b[39m1\u001b[39m][\u001b[39m1\u001b[39m:]\n\u001b[1;32m--> 148\u001b[0m     \u001b[39mwith\u001b[39;00m \u001b[39mopen\u001b[39;49m(image, \u001b[39m\"\u001b[39;49m\u001b[39mrb\u001b[39;49m\u001b[39m\"\u001b[39;49m) \u001b[39mas\u001b[39;00m f:\n\u001b[0;32m    149\u001b[0m         img \u001b[39m=\u001b[39m f\u001b[39m.\u001b[39mread()\n\u001b[0;32m    150\u001b[0m     b64encoded \u001b[39m=\u001b[39m base64\u001b[39m.\u001b[39mb64encode(img)\u001b[39m.\u001b[39mdecode(\u001b[39m\"\u001b[39m\u001b[39mutf-8\u001b[39m\u001b[39m\"\u001b[39m)\n",
      "\u001b[1;31mFileNotFoundError\u001b[0m: [Errno 2] No such file or directory: 'data/과).png'"
     ]
    }
   ],
   "source": [
    "map = folium.Map(location=[df.위도.mean(), df.경도.mean()], zoom_start=8)\n",
    "for i in df.index:\n",
    "    logo = folium.CustomIcon(f'data/{df.구분[i]}.png', icon_size=(20,20))\n",
    "    folium.Marker(        \n",
    "        location=[df.위도[i], df.경도[i]],\n",
    "        popup=folium.Popup(df.전화번호안내[i], max_width=200),\n",
    "        tooltip=df.구분명[i],\n",
    "        icon=logo\n",
    "    ).add_to(map)\n",
    "map"
   ]
  }
 ],
 "metadata": {
  "kernelspec": {
   "display_name": "base",
   "language": "python",
   "name": "python3"
  },
  "language_info": {
   "codemirror_mode": {
    "name": "ipython",
    "version": 3
   },
   "file_extension": ".py",
   "mimetype": "text/x-python",
   "name": "python",
   "nbconvert_exporter": "python",
   "pygments_lexer": "ipython3",
   "version": "3.10.10"
  },
  "orig_nbformat": 4
 },
 "nbformat": 4,
 "nbformat_minor": 2
}
